version https://git-lfs.github.com/spec/v1
oid sha256:dc977d7a3595cafe5d33cd4f8ef6df04b6e251d238d966af7fd0f012d668d70b
size 11494677
